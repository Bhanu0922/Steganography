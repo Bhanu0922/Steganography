{
 "cells": [
  {
   "cell_type": "code",
   "execution_count": 1,
   "id": "85eded23-2da8-4dd2-8838-1aab807429c1",
   "metadata": {},
   "outputs": [
    {
     "name": "stdout",
     "output_type": "stream",
     "text": [
      "183 275 3\n"
     ]
    },
    {
     "name": "stdin",
     "output_type": "stream",
     "text": [
      "\n",
      "Enter key to edit (Security Key):  123\n",
      "\n",
      "Enter text to hide: Bhanu\n"
     ]
    },
    {
     "name": "stdout",
     "output_type": "stream",
     "text": [
      "Data Hiding in Image completed successfully.\n"
     ]
    },
    {
     "name": "stdin",
     "output_type": "stream",
     "text": [
      "\n",
      "Enter 1 To Unhide The Text:  1\n",
      "\n",
      "Enter Secret key To Unhide The Text:  123\n"
     ]
    },
    {
     "name": "stdout",
     "output_type": "stream",
     "text": [
      "Encrypted text was : Bhanu\n"
     ]
    }
   ],
   "source": [
    "import cv2\n",
    "import hashlib\n",
    "import os\n",
    "d = {chr(i): i for i in range(255)}\n",
    "c = {i: chr(i) for i in range(255)}\n",
    "\n",
    "# Reading the image\n",
    "x = cv2.imread(r\"C:\\Users\\KEDAR\\Downloads\\original_image.jfif\")\n",
    "i, j, k = x.shape\n",
    "print(i, j, k)\n",
    "\n",
    "# Input security key and text to hide\n",
    "key = input(\"\\nEnter key to edit (Security Key): \")\n",
    "text = input(\"\\nEnter text to hide:\")\n",
    "\n",
    "# Initialize variables\n",
    "k1 = 0\n",
    "n, m, z = 0, 0, 0\n",
    "l = len(text)\n",
    "\n",
    "# Encode text into the image\n",
    "for i in range(l):\n",
    "    x[n, m, z] = d[text[i]] ^ d[key[k1]]\n",
    "    z = (z + 1) % 3\n",
    "    if z == 0:\n",
    "        m = (m + 1) % j\n",
    "        if m == 0:\n",
    "            n = (n + 1) % i\n",
    "    k1 = (k1 + 1) % len(key)\n",
    "\n",
    "# Save the encrypted image\n",
    "cv2.imwrite(\"encrypted_img.jpg\", x)\n",
    "os.startfile(\"encrypted_img.jpg\")\n",
    "print(\"Data Hiding in Image completed successfully.\")\n",
    "\n",
    "# Initialize variables for decoding\n",
    "k1 = 0\n",
    "n, m, z = 0, 0, 0\n",
    "\n",
    "# Prompt to unhide text\n",
    "ch = int(input(\"\\nEnter 1 To Unhide The Text: \"))\n",
    "if ch == 1:\n",
    "    key1 = input(\"\\nEnter Secret key To Unhide The Text: \")\n",
    "    decrypt = \"\"\n",
    "    if key == key1:\n",
    "        for i in range(l):\n",
    "            decrypt += c[x[n, m, z] ^ d[key[k1]]]\n",
    "            z = (z + 1) % 3\n",
    "            if z == 0:\n",
    "                m = (m + 1) % j\n",
    "                if m == 0:\n",
    "                    n = (n + 1) % i\n",
    "            k1 = (k1 + 1) % len(key)\n",
    "        print(\"Encrypted text was :\", decrypt)\n",
    "    else:\n",
    "        print(\"Key doesn't matched.\")\n",
    "else:\n",
    "    print(\"Thanuk you. EXITING.\")"
   ]
  },
  {
   "cell_type": "code",
   "execution_count": null,
   "id": "c4eddc1f-6181-4978-b468-33edfe3d18e3",
   "metadata": {},
   "outputs": [],
   "source": []
  }
 ],
 "metadata": {
  "kernelspec": {
   "display_name": "Python 3 (ipykernel)",
   "language": "python",
   "name": "python3"
  },
  "language_info": {
   "codemirror_mode": {
    "name": "ipython",
    "version": 3
   },
   "file_extension": ".py",
   "mimetype": "text/x-python",
   "name": "python",
   "nbconvert_exporter": "python",
   "pygments_lexer": "ipython3",
   "version": "3.12.3"
  }
 },
 "nbformat": 4,
 "nbformat_minor": 5
}
